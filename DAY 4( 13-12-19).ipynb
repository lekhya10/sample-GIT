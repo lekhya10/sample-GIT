{
 "cells": [
  {
   "cell_type": "markdown",
   "metadata": {},
   "source": [
    "# jupyter markdown\n",
    "## jupyter markdown\n",
    "### jupyter markdown\n",
    "#### jupyter  markdown\n",
    "##### jupyter markdown               \n"
   ]
  },
  {
   "cell_type": "markdown",
   "metadata": {},
   "source": [
    "- point 1\n",
    "    - **sub point 1.1**\n",
    "    - *sub point 1.2*\n",
    "    - ***sub point 1.3***  \n",
    "- point 2\n",
    "- point 3"
   ]
  },
  {
   "cell_type": "markdown",
   "metadata": {},
   "source": [
    "### python introduction\n",
    "- python 3\n",
    "- python can be used as functional programming\n",
    "- python can be used as scripting programming\n",
    "- python initially designed by **Guido Van Rossum** in 1991"
   ]
  },
  {
   "cell_type": "code",
   "execution_count": 2,
   "metadata": {},
   "outputs": [
    {
     "name": "stdout",
     "output_type": "stream",
     "text": [
      "hello world\n",
      "welcome to python programming\n"
     ]
    }
   ],
   "source": [
    "# Input and Output Function\n",
    "# output Function\n",
    "print(\"hello world\")\n",
    "print(\"welcome to python programming\")\n",
    "\n"
   ]
  },
  {
   "cell_type": "code",
   "execution_count": 4,
   "metadata": {},
   "outputs": [
    {
     "name": "stdout",
     "output_type": "stream",
     "text": [
      "markdown cell code cell\n"
     ]
    }
   ],
   "source": [
    "print(\"markdown cell\", end=' ')\n",
    "print(\"code cell\")\n"
   ]
  },
  {
   "cell_type": "code",
   "execution_count": 5,
   "metadata": {},
   "outputs": [
    {
     "name": "stdout",
     "output_type": "stream",
     "text": [
      "enter your name: \n",
      " bhavya\n",
      "your name is  bhavya\n"
     ]
    }
   ],
   "source": [
    "# input function\n",
    "print(\"enter your name: \")\n",
    "a=input(' ')\n",
    "print('your name is ', a)\n"
   ]
  },
  {
   "cell_type": "markdown",
   "metadata": {},
   "source": [
    "### inserting an image using markdown\n",
    "\n",
    "![image](data:image/jpeg;base64,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)"
   ]
  },
  {
   "cell_type": "markdown",
   "metadata": {},
   "source": [
    "### inserting a site using markdown\n",
    "[site](https://www.facebook.com/)"
   ]
  },
  {
   "cell_type": "markdown",
   "metadata": {},
   "source": [
    "# Fundamental Data Types\n",
    "\n",
    "1. int \n",
    "2. float\n",
    "3. complex\n",
    "4. boolean\n",
    "5. string"
   ]
  },
  {
   "cell_type": "code",
   "execution_count": 6,
   "metadata": {},
   "outputs": [
    {
     "name": "stdout",
     "output_type": "stream",
     "text": [
      "<class 'int'>\n"
     ]
    }
   ],
   "source": [
    "# basic example\n",
    "x=10\n",
    "print( type(x))"
   ]
  },
  {
   "cell_type": "code",
   "execution_count": 7,
   "metadata": {},
   "outputs": [
    {
     "name": "stdout",
     "output_type": "stream",
     "text": [
      "10\n"
     ]
    }
   ],
   "source": [
    "print(x)"
   ]
  },
  {
   "cell_type": "code",
   "execution_count": 9,
   "metadata": {},
   "outputs": [
    {
     "name": "stdout",
     "output_type": "stream",
     "text": [
      "3.14\n",
      "<class 'float'>\n"
     ]
    }
   ],
   "source": [
    "x=3.14\n",
    "print(x)\n",
    "print(type(x))"
   ]
  },
  {
   "cell_type": "code",
   "execution_count": 11,
   "metadata": {},
   "outputs": [
    {
     "name": "stdout",
     "output_type": "stream",
     "text": [
      "true\n",
      "<class 'str'>\n"
     ]
    }
   ],
   "source": [
    "x=\"true\"\n",
    "print(x)\n",
    "print(type(x))\n"
   ]
  },
  {
   "cell_type": "code",
   "execution_count": 15,
   "metadata": {},
   "outputs": [
    {
     "name": "stdout",
     "output_type": "stream",
     "text": [
      "<class 'bool'>\n"
     ]
    }
   ],
   "source": [
    "x= True\n",
    "print(type(x))"
   ]
  },
  {
   "cell_type": "code",
   "execution_count": 19,
   "metadata": {},
   "outputs": [
    {
     "name": "stdout",
     "output_type": "stream",
     "text": [
      "<class 'complex'>\n"
     ]
    }
   ],
   "source": [
    "x=complex(5,4)\n",
    "print(type(x))"
   ]
  },
  {
   "cell_type": "code",
   "execution_count": 20,
   "metadata": {},
   "outputs": [
    {
     "name": "stdout",
     "output_type": "stream",
     "text": [
      "(8+12j)\n",
      "(2+0j)\n",
      "(-21+48j)\n"
     ]
    }
   ],
   "source": [
    "c1=5+6j\n",
    "c2=3+6j\n",
    "print(c1+c2)\n",
    "print(c1-c2)\n",
    "print(c1*c2)"
   ]
  },
  {
   "cell_type": "code",
   "execution_count": 21,
   "metadata": {},
   "outputs": [
    {
     "data": {
      "text/plain": [
       "True"
      ]
     },
     "execution_count": 21,
     "metadata": {},
     "output_type": "execute_result"
    }
   ],
   "source": [
    "a=10\n",
    "b=5\n",
    "a>b"
   ]
  },
  {
   "cell_type": "code",
   "execution_count": 22,
   "metadata": {},
   "outputs": [
    {
     "data": {
      "text/plain": [
       "False"
      ]
     },
     "execution_count": 22,
     "metadata": {},
     "output_type": "execute_result"
    }
   ],
   "source": [
    "a=10\n",
    "b=5\n",
    "a<b"
   ]
  },
  {
   "cell_type": "code",
   "execution_count": 23,
   "metadata": {},
   "outputs": [
    {
     "name": "stdout",
     "output_type": "stream",
     "text": [
      "<class 'str'>\n",
      "<class 'str'>\n"
     ]
    }
   ],
   "source": [
    "s1=\"abc\"\n",
    "s2=\"xyz\"\n",
    "print(type(s1))\n",
    "print(type(s2))"
   ]
  },
  {
   "cell_type": "code",
   "execution_count": 26,
   "metadata": {},
   "outputs": [
    {
     "name": "stdout",
     "output_type": "stream",
     "text": [
      "<class 'str'>\n"
     ]
    }
   ],
   "source": [
    "s1=\"100\"\n",
    "print(type(s1) )"
   ]
  },
  {
   "cell_type": "code",
   "execution_count": 27,
   "metadata": {},
   "outputs": [
    {
     "name": "stdout",
     "output_type": "stream",
     "text": [
      "<class 'int'>\n"
     ]
    }
   ],
   "source": [
    "i=100\n",
    "print(type(i))"
   ]
  },
  {
   "cell_type": "markdown",
   "metadata": {},
   "source": [
    "# data type conversions"
   ]
  },
  {
   "cell_type": "code",
   "execution_count": 28,
   "metadata": {},
   "outputs": [
    {
     "name": "stdout",
     "output_type": "stream",
     "text": [
      "<class 'int'>\n",
      "<class 'str'>\n",
      "<class 'float'>\n"
     ]
    }
   ],
   "source": [
    "i=100\n",
    "print(type(i))\n",
    "s1=str(i) #str converts the input into starting type\n",
    "print(type(s1))\n",
    "f1=float(i) #float() converts he input into float type \n",
    "print(type(f1))"
   ]
  },
  {
   "cell_type": "code",
   "execution_count": 29,
   "metadata": {},
   "outputs": [
    {
     "name": "stdout",
     "output_type": "stream",
     "text": [
      "<class 'str'>\n",
      "<class 'int'>\n",
      "<class 'int'>\n",
      "2\n"
     ]
    }
   ],
   "source": [
    "s1=\"200\"\n",
    "print(type(s1))\n",
    "b=int(s1)\n",
    "print(type(b))\n",
    "f=2.5\n",
    "a=int(f)\n",
    "print(type(a))\n",
    "print(a)"
   ]
  },
  {
   "cell_type": "code",
   "execution_count": 32,
   "metadata": {},
   "outputs": [
    {
     "name": "stdout",
     "output_type": "stream",
     "text": [
      "5\n"
     ]
    }
   ],
   "source": [
    "# a number is given 23456\n",
    "# digit count\n",
    "s=23456\n",
    "print(len(str(s)))"
   ]
  },
  {
   "cell_type": "code",
   "execution_count": 33,
   "metadata": {},
   "outputs": [
    {
     "name": "stdout",
     "output_type": "stream",
     "text": [
      "50\n",
      "-10\n",
      "600\n",
      "20\n",
      "0.6666666666666666\n",
      "1073741824000000000000000000000000000000\n",
      "0\n"
     ]
    }
   ],
   "source": [
    "#arithemetic operators\n",
    "a=20\n",
    "b=30\n",
    "print(a+b)\n",
    "print(a-b)\n",
    "print(a*b)\n",
    "print(a%b)\n",
    "print(a/b)\n",
    "print(a**b)\n",
    "print(a//b)"
   ]
  },
  {
   "cell_type": "code",
   "execution_count": 34,
   "metadata": {},
   "outputs": [
    {
     "name": "stdout",
     "output_type": "stream",
     "text": [
      "False\n",
      "True\n",
      "False\n",
      "True\n"
     ]
    }
   ],
   "source": [
    "#relational operators\n",
    "x=20\n",
    "y=10\n",
    "print(x==y)\n",
    "print(x!=y)\n",
    "print(x<y)\n",
    "print(x>y)"
   ]
  },
  {
   "cell_type": "code",
   "execution_count": 35,
   "metadata": {},
   "outputs": [
    {
     "name": "stdout",
     "output_type": "stream",
     "text": [
      "True\n",
      "True\n",
      "False\n"
     ]
    }
   ],
   "source": [
    "#logical operators\n",
    "x=20\n",
    "y=30\n",
    "print(x>=10 and x<=20)\n",
    "print(x>=5 and x<=20)\n",
    "print(not x)\n"
   ]
  },
  {
   "cell_type": "code",
   "execution_count": 37,
   "metadata": {},
   "outputs": [
    {
     "name": "stdout",
     "output_type": "stream",
     "text": [
      "True\n",
      "True\n"
     ]
    }
   ],
   "source": [
    "#membership operators\n",
    "str1=\"abc\"\n",
    "print('a' in str1)\n",
    "print('d' not in str1)\n"
   ]
  },
  {
   "cell_type": "markdown",
   "metadata": {},
   "source": [
    "# conditional statements\n",
    "1. if\n",
    "2. elif\n",
    "3. else\n",
    "\n"
   ]
  },
  {
   "cell_type": "markdown",
   "metadata": {},
   "source": [
    "## syntax\n",
    "- if condition:\n",
    "\n",
    "\n",
    " \n",
    " \n",
    " \n",
    " \n",
    " statements\n",
    " \n",
    "- elif condition:\n",
    "\n",
    "\n",
    "\n",
    "\n",
    "\n",
    "\n",
    "\n",
    "statements\n",
    " \n",
    "- else:\n",
    "\n",
    "\n",
    " \n",
    " \n",
    " \n",
    " \n",
    " \n",
    " statements"
   ]
  },
  {
   "cell_type": "code",
   "execution_count": 48,
   "metadata": {},
   "outputs": [
    {
     "name": "stdout",
     "output_type": "stream",
     "text": [
      "enter the number :27\n",
      "odd\n"
     ]
    }
   ],
   "source": [
    "#to check the given number is even or odd\n",
    "n=int(input(\"enter the number :\"))\n",
    "if n%2==0:\n",
    "    print(\"even\")\n",
    "else:\n",
    "    print(\"odd\")"
   ]
  },
  {
   "cell_type": "code",
   "execution_count": 52,
   "metadata": {},
   "outputs": [
    {
     "name": "stdout",
     "output_type": "stream",
     "text": [
      "enter a number :15\n",
      "it is a multiple of 3 and 5\n"
     ]
    }
   ],
   "source": [
    "#to check whether the number is a multiple  of 3 and 5\n",
    "n=int(input(\"enter a number :\"))\n",
    "if n%3==0 and n%5==0:\n",
    "    print(\"it is a multiple of 3 and 5\")\n",
    "else:\n",
    "    print(\"it is not multiple of 3 and 5\")"
   ]
  },
  {
   "cell_type": "code",
   "execution_count": 62,
   "metadata": {},
   "outputs": [
    {
     "name": "stdout",
     "output_type": "stream",
     "text": [
      "enter a number:27\n",
      "positive\n"
     ]
    }
   ],
   "source": [
    "#to check the given number is positive , negative or zero\n",
    "n=int(input(\"enter a number:\"))\n",
    "if n>0:\n",
    "    print(\"positive\")\n",
    "elif n<0:\n",
    "    print(\"negative\")\n",
    "elif n==0:\n",
    "    print(\"zero\")\n",
    "else:\n",
    "    print(\"invalid\")"
   ]
  },
  {
   "cell_type": "code",
   "execution_count": 64,
   "metadata": {},
   "outputs": [
    {
     "name": "stdout",
     "output_type": "stream",
     "text": [
      "enter an year: 2016\n",
      "leap year\n"
     ]
    }
   ],
   "source": [
    "#to check whether the given year is leap year or not \n",
    "n=int(input(\"enter an year: \"))\n",
    "if n%4==0:\n",
    "    print(\"leap year\")\n",
    "else:\n",
    "    print(\"not a leap year\")"
   ]
  },
  {
   "cell_type": "code",
   "execution_count": 67,
   "metadata": {},
   "outputs": [
    {
     "name": "stdout",
     "output_type": "stream",
     "text": [
      "enter the age of a person24\n",
      "he is eligible for voting\n"
     ]
    }
   ],
   "source": [
    "#to check whether the person is eligible for voting or not \n",
    "n=int(input(\"enter the age of a person\"))\n",
    "if n>=18 and n<=85:\n",
    "    print(\"he is eligible for voting\")\n",
    "else:\n",
    "    print(\"he is not eligible\")\n",
    "    "
   ]
  },
  {
   "cell_type": "code",
   "execution_count": null,
   "metadata": {},
   "outputs": [],
   "source": []
  }
 ],
 "metadata": {
  "kernelspec": {
   "display_name": "Python 3",
   "language": "python",
   "name": "python3"
  },
  "language_info": {
   "codemirror_mode": {
    "name": "ipython",
    "version": 3
   },
   "file_extension": ".py",
   "mimetype": "text/x-python",
   "name": "python",
   "nbconvert_exporter": "python",
   "pygments_lexer": "ipython3",
   "version": "3.7.4"
  }
 },
 "nbformat": 4,
 "nbformat_minor": 2
}
